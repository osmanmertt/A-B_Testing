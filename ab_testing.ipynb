{
 "cells": [
  {
   "cell_type": "code",
   "execution_count": 1,
   "metadata": {
    "execution": {
     "iopub.execute_input": "2022-11-08T18:14:44.340106Z",
     "iopub.status.busy": "2022-11-08T18:14:44.339512Z",
     "iopub.status.idle": "2022-11-08T18:14:45.028469Z",
     "shell.execute_reply": "2022-11-08T18:14:45.027022Z"
    },
    "papermill": {
     "duration": 0.699435,
     "end_time": "2022-11-08T18:14:45.031935",
     "exception": false,
     "start_time": "2022-11-08T18:14:44.332500",
     "status": "completed"
    },
    "tags": []
   },
   "outputs": [],
   "source": [
    "import pandas as pd \n",
    "from scipy.stats import shapiro, levene, ttest_ind"
   ]
  },
  {
   "cell_type": "markdown",
   "metadata": {
    "papermill": {
     "duration": 0.005922,
     "end_time": "2022-11-08T18:14:45.043702",
     "exception": false,
     "start_time": "2022-11-08T18:14:45.037780",
     "status": "completed"
    },
    "tags": []
   },
   "source": [
    "Dataset has been read. The control group and test group were assigned to different variables."
   ]
  },
  {
   "cell_type": "markdown",
   "metadata": {
    "papermill": {
     "duration": 0.005955,
     "end_time": "2022-11-08T18:14:45.655216",
     "exception": false,
     "start_time": "2022-11-08T18:14:45.649261",
     "status": "completed"
    },
    "tags": []
   },
   "source": [
    "A function has been written to get information about the dataframes."
   ]
  },
  {
   "cell_type": "code",
   "execution_count": 3,
   "metadata": {
    "execution": {
     "iopub.execute_input": "2022-11-08T18:14:45.668259Z",
     "iopub.status.busy": "2022-11-08T18:14:45.667851Z",
     "iopub.status.idle": "2022-11-08T18:14:45.673186Z",
     "shell.execute_reply": "2022-11-08T18:14:45.672463Z"
    },
    "papermill": {
     "duration": 0.013838,
     "end_time": "2022-11-08T18:14:45.674836",
     "exception": false,
     "start_time": "2022-11-08T18:14:45.660998",
     "status": "completed"
    },
    "tags": []
   },
   "outputs": [],
   "source": [
    "def AnalyzeData(df):\n",
    "    print(\"########## First 5 rows ########## \\n\", df.head())\n",
    "    print(\"\\n ########## Shape of the dataframe ########## \\n\", df.shape)\n",
    "    print(\"\\n ########## Columns of the dataframe ########## \\n\", df.columns)\n",
    "    print(\"\\n ########## Descriptive statistics about dataframe ########## \\n\",df.describe().T)\n",
    "    print(\"\\n ########## Total number of null values ########## \\n\", df.isna().sum().sum())"
   ]
  },
  {
   "cell_type": "code",
   "execution_count": 4,
   "metadata": {
    "execution": {
     "iopub.execute_input": "2022-11-08T18:14:45.688010Z",
     "iopub.status.busy": "2022-11-08T18:14:45.687337Z",
     "iopub.status.idle": "2022-11-08T18:14:45.727455Z",
     "shell.execute_reply": "2022-11-08T18:14:45.726253Z"
    },
    "papermill": {
     "duration": 0.049243,
     "end_time": "2022-11-08T18:14:45.729672",
     "exception": false,
     "start_time": "2022-11-08T18:14:45.680429",
     "status": "completed"
    },
    "tags": []
   },
   "outputs": [
    {
     "name": "stdout",
     "output_type": "stream",
     "text": [
      "########## First 5 rows ########## \n",
      "       Impression        Click    Purchase      Earning\n",
      "0   82529.459271  6090.077317  665.211255  2311.277143\n",
      "1   98050.451926  3382.861786  315.084895  1742.806855\n",
      "2   82696.023549  4167.965750  458.083738  1797.827447\n",
      "3  109914.400398  4910.882240  487.090773  1696.229178\n",
      "4  108457.762630  5987.655811  441.034050  1543.720179\n",
      "\n",
      " ########## Shape of the dataframe ########## \n",
      " (40, 4)\n",
      "\n",
      " ########## Columns of the dataframe ########## \n",
      " Index(['Impression', 'Click', 'Purchase', 'Earning'], dtype='object')\n",
      "\n",
      " ########## Descriptive statistics about dataframe ########## \n",
      "             count           mean           std           min           25%  \\\n",
      "Impression   40.0  101711.449068  20302.157862  45475.942965  85726.690349   \n",
      "Click        40.0    5100.657373   1329.985498   2189.753157   4124.304129   \n",
      "Purchase     40.0     550.894059    134.108201    267.028943    470.095533   \n",
      "Earning      40.0    1908.568300    302.917783   1253.989525   1685.847205   \n",
      "\n",
      "                     50%            75%            max  \n",
      "Impression  99790.701078  115212.816543  147539.336329  \n",
      "Click        5001.220602    5923.803596    7959.125069  \n",
      "Purchase      531.206307     637.957088     801.795020  \n",
      "Earning      1975.160522    2119.802784    2497.295218  \n",
      "\n",
      " ########## Total number of null values ########## \n",
      " 0\n"
     ]
    }
   ],
   "source": [
    "AnalyzeData(MB)"
   ]
  },
  {
   "cell_type": "code",
   "execution_count": 5,
   "metadata": {
    "execution": {
     "iopub.execute_input": "2022-11-08T18:14:45.743520Z",
     "iopub.status.busy": "2022-11-08T18:14:45.742599Z",
     "iopub.status.idle": "2022-11-08T18:14:45.771042Z",
     "shell.execute_reply": "2022-11-08T18:14:45.768617Z"
    },
    "papermill": {
     "duration": 0.039223,
     "end_time": "2022-11-08T18:14:45.774466",
     "exception": false,
     "start_time": "2022-11-08T18:14:45.735243",
     "status": "completed"
    },
    "tags": []
   },
   "outputs": [
    {
     "name": "stdout",
     "output_type": "stream",
     "text": [
      "########## First 5 rows ########## \n",
      "       Impression        Click    Purchase      Earning\n",
      "0  120103.503796  3216.547958  702.160346  1939.611243\n",
      "1  134775.943363  3635.082422  834.054286  2929.405820\n",
      "2  107806.620788  3057.143560  422.934258  2526.244877\n",
      "3  116445.275526  4650.473911  429.033535  2281.428574\n",
      "4  145082.516838  5201.387724  749.860442  2781.697521\n",
      "\n",
      " ########## Shape of the dataframe ########## \n",
      " (40, 4)\n",
      "\n",
      " ########## Columns of the dataframe ########## \n",
      " Index(['Impression', 'Click', 'Purchase', 'Earning'], dtype='object')\n",
      "\n",
      " ########## Descriptive statistics about dataframe ########## \n",
      "             count           mean           std           min            25%  \\\n",
      "Impression   40.0  120512.411758  18807.448712  79033.834921  112691.970770   \n",
      "Click        40.0    3967.549761    923.095073   1836.629861    3376.819024   \n",
      "Purchase     40.0     582.106097    161.152513    311.629515     444.626828   \n",
      "Earning      40.0    2514.890733    282.730852   1939.611243    2280.537426   \n",
      "\n",
      "                      50%            75%            max  \n",
      "Impression  119291.300775  132050.578933  158605.920483  \n",
      "Click         3931.359804    4660.497911    6019.695079  \n",
      "Purchase       551.355732     699.862360     889.910460  \n",
      "Earning       2544.666107    2761.545405    3171.489708  \n",
      "\n",
      " ########## Total number of null values ########## \n",
      " 0\n"
     ]
    }
   ],
   "source": [
    "AnalyzeData(AB)"
   ]
  },
  {
   "cell_type": "markdown",
   "metadata": {
    "papermill": {
     "duration": 0.00523,
     "end_time": "2022-11-08T18:14:45.787034",
     "exception": false,
     "start_time": "2022-11-08T18:14:45.781804",
     "status": "completed"
    },
    "tags": []
   },
   "source": [
    "Control and test group purchase data are combined. The columns have been renamed."
   ]
  },
  {
   "cell_type": "code",
   "execution_count": 6,
   "metadata": {
    "execution": {
     "iopub.execute_input": "2022-11-08T18:14:45.802496Z",
     "iopub.status.busy": "2022-11-08T18:14:45.801300Z",
     "iopub.status.idle": "2022-11-08T18:14:45.820887Z",
     "shell.execute_reply": "2022-11-08T18:14:45.820135Z"
    },
    "papermill": {
     "duration": 0.029009,
     "end_time": "2022-11-08T18:14:45.823013",
     "exception": false,
     "start_time": "2022-11-08T18:14:45.794004",
     "status": "completed"
    },
    "tags": []
   },
   "outputs": [
    {
     "data": {
      "text/html": [
       "<div>\n",
       "<style scoped>\n",
       "    .dataframe tbody tr th:only-of-type {\n",
       "        vertical-align: middle;\n",
       "    }\n",
       "\n",
       "    .dataframe tbody tr th {\n",
       "        vertical-align: top;\n",
       "    }\n",
       "\n",
       "    .dataframe thead th {\n",
       "        text-align: right;\n",
       "    }\n",
       "</style>\n",
       "<table border=\"1\" class=\"dataframe\">\n",
       "  <thead>\n",
       "    <tr style=\"text-align: right;\">\n",
       "      <th></th>\n",
       "      <th>maxBid Purchase</th>\n",
       "      <th>avgBid Purchase</th>\n",
       "    </tr>\n",
       "  </thead>\n",
       "  <tbody>\n",
       "    <tr>\n",
       "      <th>0</th>\n",
       "      <td>665.211255</td>\n",
       "      <td>702.160346</td>\n",
       "    </tr>\n",
       "    <tr>\n",
       "      <th>1</th>\n",
       "      <td>315.084895</td>\n",
       "      <td>834.054286</td>\n",
       "    </tr>\n",
       "    <tr>\n",
       "      <th>2</th>\n",
       "      <td>458.083738</td>\n",
       "      <td>422.934258</td>\n",
       "    </tr>\n",
       "    <tr>\n",
       "      <th>3</th>\n",
       "      <td>487.090773</td>\n",
       "      <td>429.033535</td>\n",
       "    </tr>\n",
       "    <tr>\n",
       "      <th>4</th>\n",
       "      <td>441.034050</td>\n",
       "      <td>749.860442</td>\n",
       "    </tr>\n",
       "  </tbody>\n",
       "</table>\n",
       "</div>"
      ],
      "text/plain": [
       "   maxBid Purchase  avgBid Purchase\n",
       "0       665.211255       702.160346\n",
       "1       315.084895       834.054286\n",
       "2       458.083738       422.934258\n",
       "3       487.090773       429.033535\n",
       "4       441.034050       749.860442"
      ]
     },
     "execution_count": 6,
     "metadata": {},
     "output_type": "execute_result"
    }
   ],
   "source": [
    "df = pd.concat([MB[\"Purchase\"],AB[\"Purchase\"]],axis=1 )\n",
    "df.columns = [\"maxBid Purchase\",\"avgBid Purchase\"]\n",
    "df.head()"
   ]
  },
  {
   "cell_type": "markdown",
   "metadata": {
    "papermill": {
     "duration": 0.006203,
     "end_time": "2022-11-08T18:14:45.837198",
     "exception": false,
     "start_time": "2022-11-08T18:14:45.830995",
     "status": "completed"
    },
    "tags": []
   },
   "source": [
    "# Writing Hypotheses\n",
    "Hypotheses have been defined.\n",
    "\n",
    "**H0: M1  = M2**  (There is no significant difference between the average number of purchases with the Max Bidding feature and the average number of purchases with the Average Bidding feature.)\n",
    "\n",
    "**H1: M1! = M2**  (There is a significant difference between the average number of purchases with the Max Bidding feature and the average number of purchases with the Average Bidding feature.)"
   ]
  },
  {
   "cell_type": "markdown",
   "metadata": {
    "papermill": {
     "duration": 0.008188,
     "end_time": "2022-11-08T18:14:45.851919",
     "exception": false,
     "start_time": "2022-11-08T18:14:45.843731",
     "status": "completed"
    },
    "tags": []
   },
   "source": [
    "Purchase averages were examined and it was seen that there was a difference. Whether this difference is statistically significant will be examined."
   ]
  },
  {
   "cell_type": "code",
   "execution_count": 7,
   "metadata": {
    "execution": {
     "iopub.execute_input": "2022-11-08T18:14:45.865992Z",
     "iopub.status.busy": "2022-11-08T18:14:45.865034Z",
     "iopub.status.idle": "2022-11-08T18:14:45.873810Z",
     "shell.execute_reply": "2022-11-08T18:14:45.872345Z"
    },
    "papermill": {
     "duration": 0.01806,
     "end_time": "2022-11-08T18:14:45.876180",
     "exception": false,
     "start_time": "2022-11-08T18:14:45.858120",
     "status": "completed"
    },
    "tags": []
   },
   "outputs": [
    {
     "data": {
      "text/plain": [
       "550.8940587702316"
      ]
     },
     "execution_count": 7,
     "metadata": {},
     "output_type": "execute_result"
    }
   ],
   "source": [
    "df[\"maxBid Purchase\"].mean()"
   ]
  },
  {
   "cell_type": "code",
   "execution_count": 8,
   "metadata": {
    "execution": {
     "iopub.execute_input": "2022-11-08T18:14:45.890843Z",
     "iopub.status.busy": "2022-11-08T18:14:45.889942Z",
     "iopub.status.idle": "2022-11-08T18:14:45.896687Z",
     "shell.execute_reply": "2022-11-08T18:14:45.895615Z"
    },
    "papermill": {
     "duration": 0.016425,
     "end_time": "2022-11-08T18:14:45.898581",
     "exception": false,
     "start_time": "2022-11-08T18:14:45.882156",
     "status": "completed"
    },
    "tags": []
   },
   "outputs": [
    {
     "data": {
      "text/plain": [
       "582.1060966484677"
      ]
     },
     "execution_count": 8,
     "metadata": {},
     "output_type": "execute_result"
    }
   ],
   "source": [
    "df[\"avgBid Purchase\"].mean()"
   ]
  },
  {
   "cell_type": "markdown",
   "metadata": {
    "papermill": {
     "duration": 0.005443,
     "end_time": "2022-11-08T18:14:45.909949",
     "exception": false,
     "start_time": "2022-11-08T18:14:45.904506",
     "status": "completed"
    },
    "tags": []
   },
   "source": [
    "# Control of Assumptions"
   ]
  },
  {
   "cell_type": "markdown",
   "metadata": {
    "papermill": {
     "duration": 0.005449,
     "end_time": "2022-11-08T18:14:45.921051",
     "exception": false,
     "start_time": "2022-11-08T18:14:45.915602",
     "status": "completed"
    },
    "tags": []
   },
   "source": [
    "Assumption controls are made in the following section. First, hypotheses for the assumption of normality were formed and tested. Since the obtained p-values are greater than 0.05, the H0 hypothesis cannot be rejected. Therefore, the assumption of normality is provided."
   ]
  },
  {
   "cell_type": "markdown",
   "metadata": {
    "papermill": {
     "duration": 0.00694,
     "end_time": "2022-11-08T18:14:45.933891",
     "exception": false,
     "start_time": "2022-11-08T18:14:45.926951",
     "status": "completed"
    },
    "tags": []
   },
   "source": [
    "**H0:** The assumption of normality is provided.  \n",
    "**H1:** The assumption of normality is not provided."
   ]
  },
  {
   "cell_type": "code",
   "execution_count": 9,
   "metadata": {
    "execution": {
     "iopub.execute_input": "2022-11-08T18:14:45.947810Z",
     "iopub.status.busy": "2022-11-08T18:14:45.947179Z",
     "iopub.status.idle": "2022-11-08T18:14:45.954021Z",
     "shell.execute_reply": "2022-11-08T18:14:45.952525Z"
    },
    "papermill": {
     "duration": 0.017105,
     "end_time": "2022-11-08T18:14:45.957205",
     "exception": false,
     "start_time": "2022-11-08T18:14:45.940100",
     "status": "completed"
    },
    "tags": []
   },
   "outputs": [],
   "source": [
    "def normalityAssumption(x):\n",
    "    test_stat, pvalue = shapiro(x)\n",
    "    print('Test Stat = %.4f, p-value = %.4f' % (test_stat, pvalue))"
   ]
  },
  {
   "cell_type": "code",
   "execution_count": 10,
   "metadata": {
    "execution": {
     "iopub.execute_input": "2022-11-08T18:14:45.976384Z",
     "iopub.status.busy": "2022-11-08T18:14:45.975699Z",
     "iopub.status.idle": "2022-11-08T18:14:45.982423Z",
     "shell.execute_reply": "2022-11-08T18:14:45.980009Z"
    },
    "papermill": {
     "duration": 0.019057,
     "end_time": "2022-11-08T18:14:45.984915",
     "exception": false,
     "start_time": "2022-11-08T18:14:45.965858",
     "status": "completed"
    },
    "tags": []
   },
   "outputs": [
    {
     "name": "stdout",
     "output_type": "stream",
     "text": [
      "Test Stat = 0.9773, p-value = 0.5891\n"
     ]
    }
   ],
   "source": [
    "normalityAssumption(df[\"maxBid Purchase\"])"
   ]
  },
  {
   "cell_type": "code",
   "execution_count": 11,
   "metadata": {
    "execution": {
     "iopub.execute_input": "2022-11-08T18:14:46.001122Z",
     "iopub.status.busy": "2022-11-08T18:14:46.000392Z",
     "iopub.status.idle": "2022-11-08T18:14:46.006767Z",
     "shell.execute_reply": "2022-11-08T18:14:46.005743Z"
    },
    "papermill": {
     "duration": 0.016407,
     "end_time": "2022-11-08T18:14:46.008778",
     "exception": false,
     "start_time": "2022-11-08T18:14:45.992371",
     "status": "completed"
    },
    "tags": []
   },
   "outputs": [
    {
     "name": "stdout",
     "output_type": "stream",
     "text": [
      "Test Stat = 0.9589, p-value = 0.1541\n"
     ]
    }
   ],
   "source": [
    "normalityAssumption(df[\"avgBid Purchase\"])"
   ]
  },
  {
   "cell_type": "markdown",
   "metadata": {
    "papermill": {
     "duration": 0.005617,
     "end_time": "2022-11-08T18:14:46.020424",
     "exception": false,
     "start_time": "2022-11-08T18:14:46.014807",
     "status": "completed"
    },
    "tags": []
   },
   "source": [
    "Hypotheses for the variance homogeneity were formed and tested. Since the obtained p-value are greater than 0.05, the H0 hypothesis cannot be rejected. Therefore, the assumption of variance homogeneity is provided."
   ]
  },
  {
   "cell_type": "markdown",
   "metadata": {
    "papermill": {
     "duration": 0.007213,
     "end_time": "2022-11-08T18:14:46.033684",
     "exception": false,
     "start_time": "2022-11-08T18:14:46.026471",
     "status": "completed"
    },
    "tags": []
   },
   "source": [
    "**H0:** Variances are homogeneous.  \n",
    "**H1:** Variances are not homogeneous."
   ]
  },
  {
   "cell_type": "code",
   "execution_count": 12,
   "metadata": {
    "execution": {
     "iopub.execute_input": "2022-11-08T18:14:46.047914Z",
     "iopub.status.busy": "2022-11-08T18:14:46.047208Z",
     "iopub.status.idle": "2022-11-08T18:14:46.054322Z",
     "shell.execute_reply": "2022-11-08T18:14:46.053055Z"
    },
    "papermill": {
     "duration": 0.017396,
     "end_time": "2022-11-08T18:14:46.057259",
     "exception": false,
     "start_time": "2022-11-08T18:14:46.039863",
     "status": "completed"
    },
    "tags": []
   },
   "outputs": [
    {
     "name": "stdout",
     "output_type": "stream",
     "text": [
      "Test Stat = 2.6393, p-value = 0.1083\n"
     ]
    }
   ],
   "source": [
    "test_stat, pvalue = levene(df[\"maxBid Purchase\"],df[\"avgBid Purchase\"])\n",
    "print('Test Stat = %.4f, p-value = %.4f' % (test_stat, pvalue))"
   ]
  },
  {
   "cell_type": "markdown",
   "metadata": {
    "papermill": {
     "duration": 0.005832,
     "end_time": "2022-11-08T18:14:46.069775",
     "exception": false,
     "start_time": "2022-11-08T18:14:46.063943",
     "status": "completed"
    },
    "tags": []
   },
   "source": [
    "# Testing the Hypothesis and Interpreting the Results"
   ]
  },
  {
   "cell_type": "markdown",
   "metadata": {
    "papermill": {
     "duration": 0.005596,
     "end_time": "2022-11-08T18:14:46.081218",
     "exception": false,
     "start_time": "2022-11-08T18:14:46.075622",
     "status": "completed"
    },
    "tags": []
   },
   "source": [
    "T-Test will be used as it is provided in both assumptions."
   ]
  },
  {
   "cell_type": "code",
   "execution_count": 13,
   "metadata": {
    "execution": {
     "iopub.execute_input": "2022-11-08T18:14:46.095744Z",
     "iopub.status.busy": "2022-11-08T18:14:46.095055Z",
     "iopub.status.idle": "2022-11-08T18:14:46.103853Z",
     "shell.execute_reply": "2022-11-08T18:14:46.102371Z"
    },
    "papermill": {
     "duration": 0.018942,
     "end_time": "2022-11-08T18:14:46.106385",
     "exception": false,
     "start_time": "2022-11-08T18:14:46.087443",
     "status": "completed"
    },
    "tags": []
   },
   "outputs": [
    {
     "name": "stdout",
     "output_type": "stream",
     "text": [
      "Test Stat = -0.9416, p-value = 0.3493\n"
     ]
    }
   ],
   "source": [
    "test_stat, pvalue = ttest_ind(df[\"maxBid Purchase\"],df[\"avgBid Purchase\"],\n",
    "                              equal_var=True)\n",
    "\n",
    "print('Test Stat = %.4f, p-value = %.4f' % (test_stat, pvalue))"
   ]
  },
  {
   "cell_type": "markdown",
   "metadata": {
    "papermill": {
     "duration": 0.005664,
     "end_time": "2022-11-08T18:14:46.118720",
     "exception": false,
     "start_time": "2022-11-08T18:14:46.113056",
     "status": "completed"
    },
    "tags": []
   },
   "source": [
    "H0 hypothesis cannot be rejected because p-value>0.05. There is no significant difference between the average number of purchases with the Max Bidding feature and the average number of purchases with the Average Bidding feature."
   ]
  }
 ],
 "metadata": {
  "kernelspec": {
   "display_name": "Python 3",
   "language": "python",
   "name": "python3"
  },
  "language_info": {
   "codemirror_mode": {
    "name": "ipython",
    "version": 3
   },
   "file_extension": ".py",
   "mimetype": "text/x-python",
   "name": "python",
   "nbconvert_exporter": "python",
   "pygments_lexer": "ipython3",
   "version": "3.7.6"
  },
  "papermill": {
   "default_parameters": {},
   "duration": 10.490636,
   "end_time": "2022-11-08T18:14:47.047042",
   "environment_variables": {},
   "exception": null,
   "input_path": "__notebook__.ipynb",
   "output_path": "__notebook__.ipynb",
   "parameters": {},
   "start_time": "2022-11-08T18:14:36.556406",
   "version": "2.3.4"
  }
 },
 "nbformat": 4,
 "nbformat_minor": 5
}
